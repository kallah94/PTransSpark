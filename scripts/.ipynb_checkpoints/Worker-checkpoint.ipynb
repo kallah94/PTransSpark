{
 "cells": [
  {
   "cell_type": "code",
   "execution_count": 40,
   "metadata": {},
   "outputs": [],
   "source": [
    "import findspark\n",
    "findspark.init()"
   ]
  },
  {
   "cell_type": "code",
   "execution_count": 1,
   "metadata": {},
   "outputs": [],
   "source": [
    "#pip install --upgrade gensim\n",
    "import gensim\n",
    "import i18n\n",
    "from pyspark.sql.functions import lit\n",
    "from googletrans import Translator\n",
    "from gensim import models\n",
    "from gensim.models import Word2Vec, KeyedVectors"
   ]
  },
  {
   "cell_type": "code",
   "execution_count": 114,
   "metadata": {},
   "outputs": [],
   "source": [
    "from pyspark.sql import SparkSession\n",
    "from pyspark.sql.types import FloatType, StringType\n",
    "from pyspark.sql import Row\n",
    "spark = SparkSession \\\n",
    "    .builder \\\n",
    "    .appName(\"TransBigData\") \\\n",
    "    .config(\"spark.some.config.option\", \"some-value\") \\\n",
    "    .getOrCreate()\n",
    "\n",
    "sc = spark.sparkContext\n",
    "\n",
    "# API google pour traduire les mots en francais\n",
    "translator = Translator()\n",
    "\n",
    "#Bibliotheque Internationalisation\n",
    "i18n.load_path.append('translations')"
   ]
  },
  {
   "cell_type": "code",
   "execution_count": 115,
   "metadata": {},
   "outputs": [],
   "source": [
    "# Recuparation et epuration des donnees\n",
    "df1 = spark.read \\\n",
    "        .option(\"sep\", \"\\t\") \\\n",
    "        .option(\"header\", \"true\") \\\n",
    "        .csv(\"/home/devtool/Lab/BigData/Trans/data/imgs_vids_senegal_None_eda39a3ee_e_02_02.tsv\")\n",
    "\n",
    "# Filtrage des lignes sans donnees de geolocalisation\n",
    "df2 = df1.filter(df1.latitude.isNotNull() & df1.longitude.isNotNull())\n",
    "\n",
    "# list de colonnes a supprimer\n",
    "retain_list = ['item_id', 'title', 'latitude', 'longitude', 'item_url', 'user_tags']\n",
    "df3 =  df2.select([column for column in df2.columns if column  in retain_list])\n"
   ]
  },
  {
   "cell_type": "code",
   "execution_count": 116,
   "metadata": {},
   "outputs": [
    {
     "name": "stdout",
     "output_type": "stream",
     "text": [
      "root\n",
      " |-- item_id: string (nullable = true)\n",
      " |-- user_nsid: string (nullable = true)\n",
      " |-- user_nickname: string (nullable = true)\n",
      " |-- date_taken: string (nullable = true)\n",
      " |-- date_uploaded: string (nullable = true)\n",
      " |-- capture_device: string (nullable = true)\n",
      " |-- title: string (nullable = true)\n",
      " |-- _c7: string (nullable = true)\n",
      " |-- user_tags: string (nullable = true)\n",
      " |-- _c9: string (nullable = true)\n",
      " |-- longitude: string (nullable = true)\n",
      " |-- latitude: string (nullable = true)\n",
      " |-- accuracy: string (nullable = true)\n",
      " |-- item_url: string (nullable = true)\n",
      " |-- item_download_url: string (nullable = true)\n",
      " |-- license_name: string (nullable = true)\n",
      " |-- license_url: string (nullable = true)\n",
      " |-- item_server_idenfier: string (nullable = true)\n",
      " |-- _c18: string (nullable = true)\n",
      " |-- item_secret: string (nullable = true)\n",
      " |-- item_secret_orignal: string (nullable = true)\n",
      " |-- item_extension_original: string (nullable = true)\n",
      " |-- item_marker: string (nullable = true)\n",
      "\n"
     ]
    }
   ],
   "source": [
    "df2.printSchema()\n",
    "#df2.show()\n",
    "# Change longitude and latitude field from string to float\n",
    "df3 = df3.withColumn('latitude', df3['latitude'].cast(FloatType()))\n",
    "df3 = df3.withColumn('longitude', df3['longitude'].cast(FloatType()))"
   ]
  },
  {
   "cell_type": "code",
   "execution_count": 117,
   "metadata": {},
   "outputs": [
    {
     "name": "stdout",
     "output_type": "stream",
     "text": [
      "+----------+----------+-------------------+----------+---------+--------------------+\n",
      "|   item_id|     title|          user_tags| longitude| latitude|            item_url|\n",
      "+----------+----------+-------------------+----------+---------+--------------------+\n",
      "| 169890474|   Senegal|africa,senegal,west|-17.138672|15.284185|http://www.flickr...|\n",
      "| 169889363|   Senegal|africa,senegal,west|-17.138672|15.284185|http://www.flickr...|\n",
      "| 169889618|   Senegal|africa,senegal,west|-17.138672|15.284185|http://www.flickr...|\n",
      "| 169889054|   Senegal|africa,senegal,west|-17.138672|15.284185|http://www.flickr...|\n",
      "|3170611706|IMG_2540-1|            senegal|-17.028809|14.509144|http://www.flickr...|\n",
      "| 169889267|   Senegal|africa,senegal,west|-17.138672|15.284185|http://www.flickr...|\n",
      "| 169889403|   Senegal|africa,senegal,west|-17.138672|15.284185|http://www.flickr...|\n",
      "| 169890821|   Senegal|africa,senegal,west|-17.138672|15.284185|http://www.flickr...|\n",
      "| 169889523|   Senegal|africa,senegal,west|-17.138672|15.284185|http://www.flickr...|\n",
      "|7176343044|      null|%C3%A0frica,senegal|-14.445549|14.499449|http://www.flickr...|\n",
      "| 169889475|   Senegal|africa,senegal,west|-17.138672|15.284185|http://www.flickr...|\n",
      "| 169889550|   Senegal|africa,senegal,west|-17.138672|15.284185|http://www.flickr...|\n",
      "| 169890140|   Senegal|africa,senegal,west|-17.138672|15.284185|http://www.flickr...|\n",
      "|3161405216|  IMG_2533|            senegal|-17.028809|14.509144|http://www.flickr...|\n",
      "| 169890452|   Senegal|africa,senegal,west|-17.138672|15.284185|http://www.flickr...|\n",
      "| 169890383|   Senegal|africa,senegal,west|-17.138672|15.284185|http://www.flickr...|\n",
      "| 169890234|   Senegal|africa,senegal,west|-17.138672|15.284185|http://www.flickr...|\n",
      "| 169890556|   Senegal|africa,senegal,west|-17.138672|15.284185|http://www.flickr...|\n",
      "| 169890533|   Senegal|africa,senegal,west|-17.138672|15.284185|http://www.flickr...|\n",
      "| 169890338|   Senegal|africa,senegal,west|-17.138672|15.284185|http://www.flickr...|\n",
      "+----------+----------+-------------------+----------+---------+--------------------+\n",
      "only showing top 20 rows\n",
      "\n",
      "root\n",
      " |-- item_id: string (nullable = true)\n",
      " |-- title: string (nullable = true)\n",
      " |-- user_tags: string (nullable = true)\n",
      " |-- longitude: float (nullable = true)\n",
      " |-- latitude: float (nullable = true)\n",
      " |-- item_url: string (nullable = true)\n",
      "\n"
     ]
    }
   ],
   "source": [
    "#df1.show()\n",
    "df3.show()\n",
    "df3.printSchema()\n",
    "test=df3.collect()[1]"
   ]
  },
  {
   "cell_type": "code",
   "execution_count": 118,
   "metadata": {},
   "outputs": [],
   "source": [
    "# Fonction permettant de calculer la distance entre deux points geographiques en \n",
    "# Fonction de leurs coordonnees\n",
    "from math import radians, cos, sin, asin, sqrt\n",
    "def haversine(lon1, lat1, lon2, lat2):\n",
    "    \"\"\"\n",
    "    Calculate the great circle distance between two points \n",
    "    on the earth (specified in decimal degrees)\n",
    "    \"\"\"\n",
    "    # convert decimal degrees to radians \n",
    "    lon1, lat1, lon2, lat2 = map(radians, [lon1, lat1, lon2, lat2])\n",
    "    # haversine formula \n",
    "    dlon = lon2 - lon1 \n",
    "    dlat = lat2 - lat1 \n",
    "    a = sin(dlat/2)**2 + cos(lat1) * cos(lat2) * sin(dlon/2)**2\n",
    "    c = 2 * asin(sqrt(a)) \n",
    "    # Radius of earth in kilometers is 6371\n",
    "    km = 6371* c\n",
    "    return km\n",
    "\n",
    "# Fonction pour traduire les user_tags en Francais pour les \n",
    "# Points preselectionnees\n",
    "from googletrans import Translator\n",
    "def translate(list_words, dest):\n",
    "    trans_words = []\n",
    "    for word in list_words:\n",
    "        if(i18n.t('En.{}'.format(word)).startswith('En')):\n",
    "            word_trans = (translator.translate(word, dest='{}'.format(dest))).text\n",
    "            try:\n",
    "                fichier = open('translations/En.en.yml', 'a')\n",
    "                fichier.writelines('\\n  {}: {}'.format(word, word_trans))\n",
    "                fichier.close()\n",
    "            except:\n",
    "                write(\"Some Error occur\")\n",
    "        else:\n",
    "            word_trans = i18n.t(\"En.{}\".format(word))\n",
    "        trans_words.append(word_trans)\n",
    "    return trans_words\n",
    "            "
   ]
  },
  {
   "cell_type": "code",
   "execution_count": 119,
   "metadata": {},
   "outputs": [
    {
     "data": {
      "text/plain": [
       "310.5095125590779"
      ]
     },
     "execution_count": 119,
     "metadata": {},
     "output_type": "execute_result"
    }
   ],
   "source": [
    "#haversine(-17.138672,  15.0, -17.028809, 14.0)\n",
    "haversine(-14.445549, 14.0, -17.138672, 15.0)"
   ]
  },
  {
   "cell_type": "code",
   "execution_count": 152,
   "metadata": {},
   "outputs": [],
   "source": [
    "df4 = df3.head(8)\n",
    "rdd = sc.parallelize(df4)\n",
    "df4 = spark.createDataFrame(rdd, df3.schema)\n",
    "item = df4.collect()[0]"
   ]
  },
  {
   "cell_type": "code",
   "execution_count": 153,
   "metadata": {},
   "outputs": [],
   "source": [
    "import math\n",
    "def NeighboursItem(df, item):\n",
    "    alttd = None\n",
    "    item_lat = float(item['latitude'])\n",
    "    item_lon = float(item['longitude'])\n",
    "    lgd = None\n",
    "    neigh = []\n",
    "    for i in range(0, df.count()):\n",
    "        lat = float(df.select('latitude').collect()[i][0])\n",
    "        lon = float(df.select('longitude').collect()[i][0])\n",
    "        if(haversine(item_lon, item_lat, lon, lat) < 1.5) :\n",
    "            neigh.append(df.collect()[i])\n",
    "        i+=1\n",
    "    return neigh"
   ]
  },
  {
   "cell_type": "code",
   "execution_count": 154,
   "metadata": {},
   "outputs": [],
   "source": [
    "\n",
    "df5 = NeighboursItem(df4, item)\n",
    "rdd = sc.parallelize(df5)\n",
    "df5 = spark.createDataFrame(rdd, df3.schema)\n",
    "#df5.coalesce(1).write.format('json').save('../../data/data.json')"
   ]
  },
  {
   "cell_type": "code",
   "execution_count": null,
   "metadata": {},
   "outputs": [],
   "source": []
  }
 ],
 "metadata": {
  "kernelspec": {
   "display_name": "Python 3",
   "language": "python",
   "name": "python3"
  },
  "language_info": {
   "codemirror_mode": {
    "name": "ipython",
    "version": 3
   },
   "file_extension": ".py",
   "mimetype": "text/x-python",
   "name": "python",
   "nbconvert_exporter": "python",
   "pygments_lexer": "ipython3",
   "version": "3.6.9"
  }
 },
 "nbformat": 4,
 "nbformat_minor": 4
}
