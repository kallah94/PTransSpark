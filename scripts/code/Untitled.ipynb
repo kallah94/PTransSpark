{
 "cells": [
  {
   "cell_type": "code",
   "execution_count": 6,
   "metadata": {},
   "outputs": [],
   "source": [
    "import findspark\n",
    "findspark.init()\n",
    "import os\n",
    "from pyspark.sql import SparkSession"
   ]
  },
  {
   "cell_type": "code",
   "execution_count": 8,
   "metadata": {},
   "outputs": [],
   "source": [
    "spark = SparkSession \\\n",
    "    .builder \\\n",
    "    .appName(\"TransBigData\") \\\n",
    "    .config(\"spark.some.config.option\", \"some-value\") \\\n",
    "    .getOrCreate()\n",
    "\n",
    "sc = spark.sparkContext"
   ]
  },
  {
   "cell_type": "code",
   "execution_count": 9,
   "metadata": {},
   "outputs": [],
   "source": [
    "df_SN = spark.read.csv(\"../fichiertest.tsv\", sep=\"\\t\", header=True)"
   ]
  },
  {
   "cell_type": "code",
   "execution_count": 10,
   "metadata": {},
   "outputs": [
    {
     "name": "stdout",
     "output_type": "stream",
     "text": [
      "+----------+------------+--------------------+--------------------+-------------+--------------------+--------------------+--------------------+--------------------+------------+----------+---------+--------+--------------------+--------------------+--------------------+--------------------+---------+-------+----------+---------------+---------+------+\n",
      "|identifier|        NSID|       user_nickname|          Date_taken|Date_uploaded|              Device|               Title|         Description|           User_tags|Machine_tags| Longitude| Latitude|Accuracy|            page_URL|        download_URL|        License_name|         License_URL|server_id|farm_id|    secret|secret_original|extension|marker|\n",
      "+----------+------------+--------------------+--------------------+-------------+--------------------+--------------------+--------------------+--------------------+------------+----------+---------+--------+--------------------+--------------------+--------------------+--------------------+---------+-------+----------+---------------+---------+------+\n",
      "|5304053323|42013417@N00|David Hall Photog...|2010-10-09 13:38:...|   1293658686|NIKON CORPORATION...|      Dakar, Senegal|                null|dakar+senegal,sen...|        null|      null|     null|    null|http://www.flickr...|http://farm6.stat...|Attribution-NonCo...|http://creativeco...|     5163|      6|91ba747a21|     b91916c057|      jpg|     0|\n",
      "| 360838017|89586977@N00|            MissyKel|2004-08-10 18:19:...|   1169065647|         NIKON E4100|             senegal|Fisherman in Senegal|             senegal|        null|      null|     null|    null|http://www.flickr...|http://farm1.stat...|Attribution-NonCo...|http://creativeco...|      164|      1|f902cbe168|     f902cbe168|      jpg|     0|\n",
      "|3456581837| 7595683@N04|          Trotsiland|2009-04-15 13:43:...|   1240179440|      Canon EOS 450D|          Senegal!!!|Dakar (Senegal). ...|dakar+senegal,sen...|        null|      null|     null|    null|http://www.flickr...|http://farm4.stat...|Attribution-NonCo...|http://creativeco...|     3612|      4|a380616bde|     ebb98872c1|      jpg|     0|\n",
      "|2319113752|61223211@N00|             tonnoro|2008-03-08 09:15:...|   1204996557|                null|             senegal|                null|             senegal|        null|      null|     null|    null|http://www.flickr...|http://farm4.stat...| Attribution License|http://creativeco...|     3065|      4|afa9cafc5d|     05c00cbe45|      jpg|     0|\n",
      "|2319113498|61223211@N00|             tonnoro|2008-03-08 09:15:...|   1204996550|                null|             senegal|                null|             senegal|        null|      null|     null|    null|http://www.flickr...|http://farm3.stat...| Attribution License|http://creativeco...|     2213|      3|c81ef28880|     b08f515204|      jpg|     0|\n",
      "|2984204852|23792686@N08|Radio Nederland W...|2008-10-29 13:50:...|   1225284653|         NIKON E4500|             Senegal|                null|             senegal|        null|      null|     null|    null|http://www.flickr...|http://farm4.stat...|Attribution-NoDer...|http://creativeco...|     3244|      4|84ef4f6c6f|     40803de490|      jpg|     0|\n",
      "|2318327335|61223211@N00|             tonnoro|2008-03-08 09:26:...|   1204997214|                null|             senegal|                null|             senegal|        null|      null|     null|    null|http://www.flickr...|http://farm4.stat...| Attribution License|http://creativeco...|     3070|      4|7e7fb7a310|     8056b27472|      jpg|     0|\n",
      "| 169890474|69775797@N00|             hoodsie|2006-06-18 14:14:...|   1150665267|         NIKON E5000|             Senegal|                null| africa,senegal,west|        null|-17.138671|15.284185|       2|http://www.flickr...|http://farm1.stat...|Attribution-NonCo...|http://creativeco...|       63|      1|aff1579e9e|     aff1579e9e|      jpg|     0|\n",
      "| 169889363|69775797@N00|             hoodsie|2006-06-18 14:13:...|   1150665180|         NIKON E5000|             Senegal|                null| africa,senegal,west|        null|-17.138671|15.284185|       2|http://www.flickr...|http://farm1.stat...|Attribution-NonCo...|http://creativeco...|       73|      1|1eff0f5ef3|     1eff0f5ef3|      jpg|     0|\n",
      "|3290429718|23792686@N08|Radio Nederland W...|2006-12-12 14:07:...|   1234959909| Canon PowerShot S80|      Dakar, Senegal|                null|       dakar,senegal|        null|      null|     null|    null|http://www.flickr...|http://farm4.stat...|Attribution-NoDer...|http://creativeco...|     3459|      4|2d9168d25b|     ca8503190d|      jpg|     0|\n",
      "| 169889618|69775797@N00|             hoodsie|2006-06-18 14:13:...|   1150665205|         NIKON E5000|             Senegal|                null| africa,senegal,west|        null|-17.138671|15.284185|       2|http://www.flickr...|http://farm1.stat...|Attribution-NonCo...|http://creativeco...|       57|      1|691fdb2528|     691fdb2528|      jpg|     0|\n",
      "| 169889054|69775797@N00|             hoodsie|2006-06-18 14:12:...|   1150665155|         NIKON E5000|             Senegal|                null| africa,senegal,west|        null|-17.138671|15.284185|       2|http://www.flickr...|http://farm1.stat...|Attribution-NonCo...|http://creativeco...|       52|      1|8fb0e63e08|     8fb0e63e08|      jpg|     0|\n",
      "|3170611706| 8130251@N04|       viewfinder-tv|2007-03-26 18:27:...|   1231159296|Canon DIGITAL IXU...|          IMG_2540-1|             Senegal|             senegal|        null|-17.028808|14.509144|       6|http://www.flickr...|http://farm4.stat...|Attribution-NoDer...|http://creativeco...|     3111|      4|79d871f370|     28cbc8f547|      jpg|     0|\n",
      "|4450281347|20576172@N00|     Cindy Trossaert|2005-08-26 12:12:...|   1269185424|NIKON CORPORATION...|        Reis Senegal|                null|             senegal|        null|      null|     null|    null|http://www.flickr...|http://farm3.stat...|Attribution-NonCo...|http://creativeco...|     2696|      3|dac77f94a2|     7c9178fc70|      jpg|     0|\n",
      "| 169889267|69775797@N00|             hoodsie|2006-06-18 14:12:...|   1150665172|         NIKON E5000|             Senegal|                null| africa,senegal,west|        null|-17.138671|15.284185|       2|http://www.flickr...|http://farm1.stat...|Attribution-NonCo...|http://creativeco...|       56|      1|a0c61611b9|     a0c61611b9|      jpg|     0|\n",
      "| 169889403|69775797@N00|             hoodsie|2006-06-18 14:13:...|   1150665184|         NIKON E5000|             Senegal|                null| africa,senegal,west|        null|-17.138671|15.284185|       2|http://www.flickr...|http://farm1.stat...|Attribution-NonCo...|http://creativeco...|       66|      1|3497cc58af|     3497cc58af|      jpg|     0|\n",
      "| 169890821|69775797@N00|             hoodsie|2005-04-15 05:27:...|   1150665295|Canon PowerShot S200|             Senegal|                null| africa,senegal,west|        null|-17.138671|15.284185|       2|http://www.flickr...|http://farm1.stat...|Attribution-NonCo...|http://creativeco...|       67|      1|c54b403ab7|     c54b403ab7|      jpg|     0|\n",
      "|2346340876|24909095@N00|         bartvanpoll|2006-06-15 20:02:...|   1205959965| Canon PowerShot S45|Preservatives cam...|                null|             senegal|        null|      null|     null|    null|http://www.flickr...|http://farm4.stat...|Attribution-Share...|http://creativeco...|     3161|      4|f7ea443eb8|     c1f28dc739|      jpg|     0|\n",
      "| 169889523|69775797@N00|             hoodsie|2006-06-18 14:13:...|   1150665194|         NIKON E5000|             Senegal|                null| africa,senegal,west|        null|-17.138671|15.284185|       2|http://www.flickr...|http://farm1.stat...|Attribution-NonCo...|http://creativeco...|       44|      1|cf950152a3|     cf950152a3|      jpg|     0|\n",
      "|7176343044|69719274@N08|            monicajc|2012-05-11 15:34:...|   1336743274|                null|                null|             Senegal| %C3%A0frica,senegal|        null|-14.445549|14.499449|       2|http://www.flickr...|http://farm8.stat...|Attribution-NonCo...|http://creativeco...|     7098|      8|2684481b13|     aba663aec5|      jpg|     0|\n",
      "+----------+------------+--------------------+--------------------+-------------+--------------------+--------------------+--------------------+--------------------+------------+----------+---------+--------+--------------------+--------------------+--------------------+--------------------+---------+-------+----------+---------------+---------+------+\n",
      "only showing top 20 rows\n",
      "\n"
     ]
    }
   ],
   "source": [
    "df_SN.show()"
   ]
  },
  {
   "cell_type": "code",
   "execution_count": 11,
   "metadata": {},
   "outputs": [],
   "source": [
    "df_SN.coalesce(1).write.format('json').save('fichiertest.json')"
   ]
  },
  {
   "cell_type": "code",
   "execution_count": null,
   "metadata": {},
   "outputs": [],
   "source": []
  },
  {
   "cell_type": "code",
   "execution_count": null,
   "metadata": {},
   "outputs": [],
   "source": [
    "df_filtre = df_SN.filter(~df_SN[\"longitude\"])"
   ]
  }
 ],
 "metadata": {
  "kernelspec": {
   "display_name": "Python 3",
   "language": "python",
   "name": "python3"
  },
  "language_info": {
   "codemirror_mode": {
    "name": "ipython",
    "version": 3
   },
   "file_extension": ".py",
   "mimetype": "text/x-python",
   "name": "python",
   "nbconvert_exporter": "python",
   "pygments_lexer": "ipython3",
   "version": "3.7.3"
  }
 },
 "nbformat": 4,
 "nbformat_minor": 4
}
