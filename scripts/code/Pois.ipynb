{
 "cells": [
  {
   "cell_type": "code",
   "execution_count": 1,
   "metadata": {},
   "outputs": [],
   "source": [
    "import pyspark\n",
    "from pyspark.sql.functions import *\n",
    "from pyspark.sql.types import *\n",
    "sc = SparkContext.getOrCreate()"
   ]
  },
  {
   "cell_type": "code",
   "execution_count": 2,
   "metadata": {},
   "outputs": [],
   "source": [
    "# Preparons un schéma pour le dataframe df_POI_SN\n",
    "\n",
    "from pyspark.sql.functions import *\n",
    "from pyspark.sql.types import *\n",
    "\n",
    "schema2 = StructType([\\\n",
    "    StructField(\"geoname_id\", IntegerType(), True),\\\n",
    "    StructField(\"POI_name\", StringType(), True),\\\n",
    "    StructField(\"POI_asciiname\", StringType(), True),\\\n",
    "    StructField(\"POI_alternatenames\", StringType(), True),\\\n",
    "    StructField(\"POI_latitude\", StringType(), True),\\\n",
    "    StructField(\"POI_longitude\", StringType(), True),\\\n",
    "    StructField(\"feature_class\", StringType(), True),\\\n",
    "    StructField(\"feature_code\", StringType(), True),\\\n",
    "    StructField(\"country_code\", StringType(), True),\\\n",
    "    StructField(\"cc2\", StringType(), True),\\\n",
    "    StructField(\"admin1_code\", StringType(), True),\\\n",
    "    StructField(\"admin2_code\", StringType(), True),\\\n",
    "    StructField(\"admin3_code\", StringType(), True),\\\n",
    "    StructField(\"admin4_code\", StringType(), True),\\\n",
    "    StructField(\"population\", IntegerType(), True),\\\n",
    "    StructField(\"elevation\", IntegerType(), True),\\\n",
    "    StructField(\"dem\", IntegerType(), True),\\\n",
    "    StructField(\"timezone\", StringType(), True),\\\n",
    "    StructField(\"Modification_date\", StringType(), True),\\\n",
    "    StructField(\"AdminCodes\", StringType(), True)])"
   ]
  },
  {
   "cell_type": "code",
   "execution_count": 3,
   "metadata": {},
   "outputs": [],
   "source": [
    "# Importons le dataset contenant les POI du Senegal\n",
    "df_POI_SN = spark.read.csv(\"SN.txt\", sep=\"\\t\", header = \"true\", schema = schema2)"
   ]
  },
  {
   "cell_type": "code",
   "execution_count": 4,
   "metadata": {},
   "outputs": [],
   "source": [
    "#On drop les features inutiles pour nous\n",
    "df_POI_SN = df_POI_SN.drop(\n",
    "    \"feature_class\",\\\n",
    "    \"feature_code\",\\\n",
    "    \"country_code\",\\\n",
    "    \"cc2\",\\\n",
    "    \"admin1_code\",\\\n",
    "    \"admin2_code\",\\\n",
    "    \"admin3_code\",\\\n",
    "    \"admin4_code\",\\\n",
    "    \"population\",\\\n",
    "    \"elevation\",\\\n",
    "    \"dem\",\\\n",
    "    \"timezone\",\\\n",
    "    \"Modification_date\",\\\n",
    "    \"AdminCodes\")"
   ]
  },
  {
   "cell_type": "code",
   "execution_count": 5,
   "metadata": {},
   "outputs": [
    {
     "name": "stdout",
     "output_type": "stream",
     "text": [
      "+----------+--------------------+--------------------+--------------------+------------+-------------+\n",
      "|geoname_id|            POI_name|       POI_asciiname|  POI_alternatenames|POI_latitude|POI_longitude|\n",
      "+----------+--------------------+--------------------+--------------------+------------+-------------+\n",
      "|   2243938|   Vallée du Loumbol|   Vallee du Loumbol|Vallee du Loumbel...|        15.4|    -13.93333|\n",
      "|   2243939|          Ziguinchor|          Ziguinchor|Basse Casamance,D...|        12.8|    -16.36667|\n",
      "|   2243940|          Ziguinchor|          Ziguinchor|ZIG,Zighinkor,Zig...|    12.56801|    -16.27326|\n",
      "|   2243941|          Ziguinchor|          Ziguinchor|                null|    12.58333|    -16.26667|\n",
      "|   2243942|  Ziguinchor Airport|  Ziguinchor Airport|GOGG,ZIG,Ziguinch...|    12.55569|    -16.28268|\n",
      "|   2243943|          Ziguinchor|          Ziguinchor|Departement de Zi...|    12.52201|    -16.21621|\n",
      "|   2243944|                Yoye|                Yoye|                null|        15.2|        -16.3|\n",
      "|   2243945|              Youtou|              Youtou|                null|    12.37972|    -16.48861|\n",
      "|   2243946|          Youpé Paté|          Youpe Pate|Yoube-Pate,Youbé-...|    14.33446|    -12.39846|\n",
      "|   2243947|         Youpé Amadi|         Youpe Amadi|                null|    14.34823|    -12.40063|\n",
      "|   2243948|Yougouré Keur Mor...|Yougoure Keur Mor...|                null|       14.35|    -15.78333|\n",
      "|   2243949|  Yougouré Diolofène|  Yougoure Diolofene|                null|       14.35|    -15.76667|\n",
      "|   2243950|           Youboubou|           Youboubou|                null|    13.01896|    -11.64158|\n",
      "|   2243951|       Yoro Sankoulé|       Yoro Sankoule|                null|    13.86667|    -13.71667|\n",
      "|   2243952|          Yoro Sadio|          Yoro Sadio|                null|          15|    -15.46667|\n",
      "|   2243953|           Yoro Peul|           Yoro Peul|Yoro Peul,Yoro Peulh|       15.33|     -15.9704|\n",
      "|   2243954|              Yoroka|              Yoroka|                null|       14.95|    -15.73333|\n",
      "|   2243955|     Yorodondékounda|     Yorodondekounda|                null|        13.6|       -14.25|\n",
      "|   2243956|                Yoro|                Yoro|      Keur Yoro,Yoro|    14.13333|        -16.3|\n",
      "|   2243957|Réserve Sylvo-Pas...|Reserve Sylvo-Pas...|                null|     15.1309|     -14.4172|\n",
      "+----------+--------------------+--------------------+--------------------+------------+-------------+\n",
      "only showing top 20 rows\n",
      "\n"
     ]
    }
   ],
   "source": [
    "df_POI_SN.show()"
   ]
  },
  {
   "cell_type": "code",
   "execution_count": 1,
   "metadata": {},
   "outputs": [
    {
     "ename": "ModuleNotFoundError",
     "evalue": "No module named 'pyspark'",
     "output_type": "error",
     "traceback": [
      "\u001b[0;31m---------------------------------------------------------------------------\u001b[0m",
      "\u001b[0;31mModuleNotFoundError\u001b[0m                       Traceback (most recent call last)",
      "\u001b[0;32m<ipython-input-1-dae51827856f>\u001b[0m in \u001b[0;36m<module>\u001b[0;34m\u001b[0m\n\u001b[0;32m----> 1\u001b[0;31m \u001b[0;32mfrom\u001b[0m \u001b[0mpyspark\u001b[0m\u001b[0;34m.\u001b[0m\u001b[0msql\u001b[0m\u001b[0;34m.\u001b[0m\u001b[0mfunctions\u001b[0m \u001b[0;32mimport\u001b[0m \u001b[0;34m*\u001b[0m\u001b[0;34m\u001b[0m\u001b[0;34m\u001b[0m\u001b[0m\n\u001b[0m\u001b[1;32m      2\u001b[0m \u001b[0;32mfrom\u001b[0m \u001b[0mpyspark\u001b[0m\u001b[0;34m.\u001b[0m\u001b[0msql\u001b[0m\u001b[0;34m.\u001b[0m\u001b[0mtypes\u001b[0m \u001b[0;32mimport\u001b[0m \u001b[0;34m*\u001b[0m\u001b[0;34m\u001b[0m\u001b[0;34m\u001b[0m\u001b[0m\n\u001b[1;32m      3\u001b[0m \u001b[0;34m\u001b[0m\u001b[0m\n\u001b[1;32m      4\u001b[0m \u001b[0;31m# Preparons un schéma pour le dataframe df_SN\u001b[0m\u001b[0;34m\u001b[0m\u001b[0;34m\u001b[0m\u001b[0;34m\u001b[0m\u001b[0m\n\u001b[1;32m      5\u001b[0m schema = StructType([\\\n",
      "\u001b[0;31mModuleNotFoundError\u001b[0m: No module named 'pyspark'"
     ]
    }
   ],
   "source": [
    "from pyspark.sql.functions import *\n",
    "from pyspark.sql.types import *\n",
    "\n",
    "# Preparons un schéma pour le dataframe df_SN\n",
    "schema = StructType([\\\n",
    "    StructField(\"identifier\", IntegerType(), True),\\\n",
    "    StructField(\"NSID\", FloatType(), True),\\\n",
    "    StructField(\"user_nickname\", StringType(), True),\\\n",
    "    StructField(\"date_taken\", StringType(), True),\\\n",
    "    StructField(\"date_uploaded\", StringType(), True),\\\n",
    "    StructField(\"device\", StringType(), True),\\\n",
    "    StructField(\"title\", StringType(), True),\\\n",
    "    StructField(\"description\", StringType(), True),\\\n",
    "    StructField(\"user_tags\", StringType(), True),\\\n",
    "    StructField(\"machine_tags\", StringType(), True),\\\n",
    "    StructField(\"longitude\", StringType(), True),\\\n",
    "    StructField(\"latitude\", StringType(), True),\\\n",
    "    StructField(\"accuracy\", StringType(), True),\\\n",
    "    StructField(\"page_url\", StringType(), True),\\\n",
    "    StructField(\"download_url\", StringType(), True),\\\n",
    "    StructField(\"license_name\", StringType(), True),\\\n",
    "    StructField(\"license_url\", StringType(), True),\\\n",
    "    StructField(\"server_id\", StringType(), True),\\\n",
    "    StructField(\"farm_id\", StringType(), True),\\\n",
    "    StructField(\"secret\", StringType(), True),\\\n",
    "    StructField(\"secret_original\", StringType(), True),\\\n",
    "    StructField(\"extension\", StringType(), True),\\\n",
    "    StructField(\"marker\", StringType(), True)])"
   ]
  },
  {
   "cell_type": "code",
   "execution_count": 7,
   "metadata": {},
   "outputs": [],
   "source": [
    "#Importons notre fichier pour tester \n",
    "df_SN = spark.read.csv(\"fichiertest.tsv\", sep=\"\\t\", header = \"true\",schema = schema)\n",
    "\n",
    "# On enlève les photos ne comportant pas de géotags et de description\n",
    "df_test = df_SN.filter(~df_SN[\"longitude\"].isin(\"\")) \n",
    "df_test = df_test.filter(~df_SN[\"latitude\"].isin(\"\"))\n",
    "df_test = df_test.filter(~df_SN[\"description\"].isin(\"\"))"
   ]
  },
  {
   "cell_type": "code",
   "execution_count": 8,
   "metadata": {},
   "outputs": [
    {
     "name": "stdout",
     "output_type": "stream",
     "text": [
      "root\n",
      " |-- identifier: integer (nullable = true)\n",
      " |-- NSID: float (nullable = true)\n",
      " |-- user_nickname: string (nullable = true)\n",
      " |-- date_taken: string (nullable = true)\n",
      " |-- date_uploaded: string (nullable = true)\n",
      " |-- device: string (nullable = true)\n",
      " |-- title: string (nullable = true)\n",
      " |-- description: string (nullable = true)\n",
      " |-- user_tags: string (nullable = true)\n",
      " |-- machine_tags: string (nullable = true)\n",
      " |-- longitude: string (nullable = true)\n",
      " |-- latitude: string (nullable = true)\n",
      " |-- accuracy: string (nullable = true)\n",
      " |-- page_url: string (nullable = true)\n",
      " |-- download_url: string (nullable = true)\n",
      " |-- license_name: string (nullable = true)\n",
      " |-- license_url: string (nullable = true)\n",
      " |-- server_id: string (nullable = true)\n",
      " |-- farm_id: string (nullable = true)\n",
      " |-- secret: string (nullable = true)\n",
      " |-- secret_original: string (nullable = true)\n",
      " |-- extension: string (nullable = true)\n",
      " |-- marker: string (nullable = true)\n",
      " |-- geoname_id: integer (nullable = true)\n",
      " |-- POI_name: string (nullable = true)\n",
      " |-- POI_asciiname: string (nullable = true)\n",
      " |-- POI_alternatenames: string (nullable = true)\n",
      " |-- POI_latitude: string (nullable = true)\n",
      " |-- POI_longitude: string (nullable = true)\n",
      "\n"
     ]
    },
    {
     "data": {
      "text/plain": [
       "44836936"
      ]
     },
     "execution_count": 8,
     "metadata": {},
     "output_type": "execute_result"
    }
   ],
   "source": [
    "#### Sautee pour l instant\n",
    "#Produit cartesien des deux dataframes\n",
    "df_BIG = df_test.crossJoin(df_POI_SN)\n",
    "df_BIG.printSchema()\n",
    "df_BIG.count()"
   ]
  },
  {
   "cell_type": "code",
   "execution_count": 9,
   "metadata": {},
   "outputs": [],
   "source": [
    "df_BIG = df_BIG.drop(\"identifier\",\"NSID\",\"user_nickname\",\"Date_taken\",\"secret_original\",\"Date_uploaded\",\"Machine_tags\",\"Accuracy\",\"page_URL\",\"Download_url\",\"device\",\"license_name\",\"license_url\", \"server_id\", \"farm_id\", \"secret\", \"secret original\", \"extension\",\"marker\",\"geoname_id\",\"POI_asciiname\",\"POI_alternatenames\")"
   ]
  },
  {
   "cell_type": "code",
   "execution_count": 10,
   "metadata": {},
   "outputs": [
    {
     "name": "stdout",
     "output_type": "stream",
     "text": [
      "+----------+-----------+---------+----------+---------+--------------------+------------+-------------+\n",
      "|     title|description|user_tags| longitude| latitude|            POI_name|POI_latitude|POI_longitude|\n",
      "+----------+-----------+---------+----------+---------+--------------------+------------+-------------+\n",
      "|IMG_2540-1|    Senegal|  senegal|-17.028808|14.509144|   Vallée du Loumbol|        15.4|    -13.93333|\n",
      "|IMG_2540-1|    Senegal|  senegal|-17.028808|14.509144|          Ziguinchor|        12.8|    -16.36667|\n",
      "|IMG_2540-1|    Senegal|  senegal|-17.028808|14.509144|          Ziguinchor|    12.56801|    -16.27326|\n",
      "|IMG_2540-1|    Senegal|  senegal|-17.028808|14.509144|          Ziguinchor|    12.58333|    -16.26667|\n",
      "|IMG_2540-1|    Senegal|  senegal|-17.028808|14.509144|  Ziguinchor Airport|    12.55569|    -16.28268|\n",
      "|IMG_2540-1|    Senegal|  senegal|-17.028808|14.509144|          Ziguinchor|    12.52201|    -16.21621|\n",
      "|IMG_2540-1|    Senegal|  senegal|-17.028808|14.509144|                Yoye|        15.2|        -16.3|\n",
      "|IMG_2540-1|    Senegal|  senegal|-17.028808|14.509144|              Youtou|    12.37972|    -16.48861|\n",
      "|IMG_2540-1|    Senegal|  senegal|-17.028808|14.509144|          Youpé Paté|    14.33446|    -12.39846|\n",
      "|IMG_2540-1|    Senegal|  senegal|-17.028808|14.509144|         Youpé Amadi|    14.34823|    -12.40063|\n",
      "|IMG_2540-1|    Senegal|  senegal|-17.028808|14.509144|Yougouré Keur Mor...|       14.35|    -15.78333|\n",
      "|IMG_2540-1|    Senegal|  senegal|-17.028808|14.509144|  Yougouré Diolofène|       14.35|    -15.76667|\n",
      "|IMG_2540-1|    Senegal|  senegal|-17.028808|14.509144|           Youboubou|    13.01896|    -11.64158|\n",
      "|IMG_2540-1|    Senegal|  senegal|-17.028808|14.509144|       Yoro Sankoulé|    13.86667|    -13.71667|\n",
      "|IMG_2540-1|    Senegal|  senegal|-17.028808|14.509144|          Yoro Sadio|          15|    -15.46667|\n",
      "|IMG_2540-1|    Senegal|  senegal|-17.028808|14.509144|           Yoro Peul|       15.33|     -15.9704|\n",
      "|IMG_2540-1|    Senegal|  senegal|-17.028808|14.509144|              Yoroka|       14.95|    -15.73333|\n",
      "|IMG_2540-1|    Senegal|  senegal|-17.028808|14.509144|     Yorodondékounda|        13.6|       -14.25|\n",
      "|IMG_2540-1|    Senegal|  senegal|-17.028808|14.509144|                Yoro|    14.13333|        -16.3|\n",
      "|IMG_2540-1|    Senegal|  senegal|-17.028808|14.509144|Réserve Sylvo-Pas...|     15.1309|     -14.4172|\n",
      "+----------+-----------+---------+----------+---------+--------------------+------------+-------------+\n",
      "only showing top 20 rows\n",
      "\n"
     ]
    }
   ],
   "source": [
    "df_BIG.show()"
   ]
  },
  {
   "cell_type": "code",
   "execution_count": 12,
   "metadata": {},
   "outputs": [],
   "source": [
    "import math\n",
    "\n",
    "def queryPOI(longitude,latitude,POI_longitude,POI_latitude,POI_name):\n",
    "    longitude = float(longitude)\n",
    "    latitude = float(latitude)\n",
    "    POI_longitude = float(POI_longitude)\n",
    "    POI_latitude = float(POI_latitude)\n",
    "    radius =50\n",
    "    \n",
    "    ## Calculons les coordonnées de la zone à couvrir par la bounding box \n",
    "    R = 6371000 # Rayon de la Terre en mètres\n",
    "    dY = 360 * radius / R # radius est le rayon de couverture de notre zone\n",
    "    dX = dY * math.cos (math.radians (latitude))\n",
    "    left = longitude - dX\n",
    "    bottom = latitude - dY \n",
    "    right = longitude + dX\n",
    "    top = latitude + dY\n",
    "    Liste_POI = list()\n",
    "    if((left <= POI_longitude <= right) and (bottom <= POI_latitude <= top)):\n",
    "        Liste_POI.append(POI_name)\n",
    "    \n",
    "    return Liste_POI"
   ]
  },
  {
   "cell_type": "code",
   "execution_count": 13,
   "metadata": {},
   "outputs": [],
   "source": [
    "queryPOI = udf(queryPOI, StringType())\n",
    "df_BIG = df_BIG.withColumn('Result', queryPOI('Longitude', 'Latitude','POI_longitude', 'POI_latitude','POI_name'))\n",
    "df_BIG = df_BIG.filter(~df_BIG[\"Result\"].isin(\"[]\"))"
   ]
  },
  {
   "cell_type": "code",
   "execution_count": 14,
   "metadata": {},
   "outputs": [
    {
     "name": "stdout",
     "output_type": "stream",
     "text": [
      "+----------+---------+--------------------+--------------------+--------------------+\n",
      "| Longitude| Latitude|              Result|         description|           user_tags|\n",
      "+----------+---------+--------------------+--------------------+--------------------+\n",
      "|-17.477306|14.768794|       [Île de Yoff]|Off the coast of ...|africa+liberia,se...|\n",
      "| -16.49168|16.030717|       [Sor-Marméal]|         Saint Louis| 2006,africa,senegal|\n",
      "| -16.48756| 16.01674|       [Saint-Louis]|  Senegal, St. Louis|louis,saint,seneg...|\n",
      "| -16.48756| 16.01674|        [Eau Claire]|  Senegal, St. Louis|louis,saint,seneg...|\n",
      "| -16.48756| 16.01674|       [Saint-Louis]|  Senegal, St. Louis|louis,saint,seneg...|\n",
      "| -16.48756| 16.01674|        [Eau Claire]|  Senegal, St. Louis|louis,saint,seneg...|\n",
      "| -16.50119|16.049772|[Marigot de Témédas]|      fleuve senegal|africa,senegal,tr...|\n",
      "| -16.50119|16.049772| [Marigot de Ndiago]|      fleuve senegal|africa,senegal,tr...|\n",
      "| -16.50119|16.049772|        [Bop Nquior]|      fleuve senegal|africa,senegal,tr...|\n",
      "|-17.468776|14.655838|[Îles Des Madelei...|a view of the bea...|beach,goree+islan...|\n",
      "|-17.468776|14.655838|[Parc National de...|a view of the bea...|beach,goree+islan...|\n",
      "| -16.48756| 16.01674|       [Saint-Louis]|  Senegal, St. Louis|louis,saint,seneg...|\n",
      "| -16.48756| 16.01674|        [Eau Claire]|  Senegal, St. Louis|louis,saint,seneg...|\n",
      "| -17.50416|14.726181|      [Les Mamelles]|       Dakar Senegal|afrique,beach,dak...|\n",
      "| -17.50416|14.726181|[Phare des Mamelles]|       Dakar Senegal|afrique,beach,dak...|\n",
      "| -16.49168|16.030717|       [Sor-Marméal]|         Saint Louis|2006,africa,saint...|\n",
      "| -16.49168|16.030717|       [Sor-Marméal]|         Saint Louis|2006,africa,saint...|\n",
      "| -16.49168|16.030717|       [Sor-Marméal]|         Saint Louis|2006,africa,saint...|\n",
      "| -16.49168|16.030717|       [Sor-Marméal]|         Saint Louis|2006,africa,saint...|\n",
      "| -16.49168|16.030717|       [Sor-Marméal]|         Saint Louis|2006,africa,saint...|\n",
      "+----------+---------+--------------------+--------------------+--------------------+\n",
      "only showing top 20 rows\n",
      "\n",
      "--- 139.88324403762817 seconds ---\n"
     ]
    }
   ],
   "source": [
    "import time\n",
    "start_time = time.time()\n",
    "df_BIG.select('Longitude', 'Latitude','Result','description', 'user_tags').show()\n",
    "print(\"--- %s seconds ---\" % (time.time() - start_time))"
   ]
  },
  {
   "cell_type": "code",
   "execution_count": 15,
   "metadata": {
    "scrolled": true
   },
   "outputs": [],
   "source": [
    "feature_group = ['Longitude','Latitude','description','user_tags']\n",
    "df1 = df_BIG.groupby(feature_group).agg(concat_ws(\", \", collect_list(df_BIG.Result)).alias(\"Points of interest\"))\n",
    "data_joined = df_BIG.drop('POI_name','POI_latitude','POI_longitude','Result').join(df1, feature_group).dropDuplicates()"
   ]
  },
  {
   "cell_type": "code",
   "execution_count": 96,
   "metadata": {},
   "outputs": [],
   "source": [
    "from fuzzywuzzy import process\n",
    "def filterPOI(description, title, POI_list):\n",
    "    POI_list = POI_list.strip('], [')\n",
    "    POI_list = POI_list.split('], [')\n",
    "    if (len(POI_list)== 1):\n",
    "        return (str(POI_list))\n",
    "    else:\n",
    "        description_filtered = process.extract(str(description),POI_list)\n",
    "        high_desc_score = list()\n",
    "        for p in description_filtered:\n",
    "            if (p[1] >= 80):  ## On vérifie si le score est supérieur à notre seuil 80\n",
    "                high_desc_score.append(p)\n",
    "            \n",
    "        if (len(high_desc_score) == 1):\n",
    "            return str(high_desc_score)\n",
    "        \n",
    "        else :\n",
    "            desc_title_filtered = list()\n",
    "            title_filtered = process.extract(str(title),POI_list)\n",
    "            for i in description_filtered:\n",
    "                for j in title_filtered:\n",
    "                    if (i[0] == j[0]):\n",
    "                        desc_title_filtered.append(tuple((i[0],i[1]+j[1]))) \n",
    "            \n",
    "            desc_title_filtered.sort(key=lambda x:x[1],reverse = True)\n",
    "            return str(desc_title_filtered)"
   ]
  },
  {
   "cell_type": "code",
   "execution_count": 97,
   "metadata": {},
   "outputs": [],
   "source": [
    "# Créons le udf \n",
    "filterPOI_udf = udf(filterPOI, StringType())\n",
    "data_joined = data_joined.withColumn(\"POI_filtered_Lev\",filterPOI_udf('description','title','Points of interest'))"
   ]
  },
  {
   "cell_type": "code",
   "execution_count": 98,
   "metadata": {},
   "outputs": [
    {
     "name": "stdout",
     "output_type": "stream",
     "text": [
      "--- 917.9474859237671 seconds ---\n"
     ]
    }
   ],
   "source": [
    "start_time = time.time()\n",
    "data_joined.toPandas().to_csv(\"POI_filt_Lev.csv\")\n",
    "print(\"--- %s seconds ---\" % (time.time() - start_time))"
   ]
  },
  {
   "cell_type": "code",
   "execution_count": null,
   "metadata": {},
   "outputs": [],
   "source": []
  },
  {
   "cell_type": "code",
   "execution_count": null,
   "metadata": {},
   "outputs": [],
   "source": []
  },
  {
   "cell_type": "code",
   "execution_count": null,
   "metadata": {},
   "outputs": [],
   "source": []
  },
  {
   "cell_type": "code",
   "execution_count": null,
   "metadata": {},
   "outputs": [],
   "source": []
  },
  {
   "cell_type": "raw",
   "metadata": {},
   "source": []
  },
  {
   "cell_type": "code",
   "execution_count": null,
   "metadata": {},
   "outputs": [],
   "source": []
  },
  {
   "cell_type": "code",
   "execution_count": null,
   "metadata": {},
   "outputs": [],
   "source": []
  },
  {
   "cell_type": "code",
   "execution_count": null,
   "metadata": {},
   "outputs": [],
   "source": []
  },
  {
   "cell_type": "code",
   "execution_count": 88,
   "metadata": {},
   "outputs": [
    {
     "name": "stdout",
     "output_type": "stream",
     "text": [
      "[('Phare des Mamelles]', 100), ('[Les Mamelles', 86)]\n",
      "[('[Les Mamelles', 57), ('Phare des Mamelles]', 57)]\n"
     ]
    },
    {
     "data": {
      "text/plain": [
       "'Phare des Mamelles'"
      ]
     },
     "execution_count": 88,
     "metadata": {},
     "output_type": "execute_result"
    }
   ],
   "source": [
    "str2Match = \"The lowest shutter speed I have ever shot during a KAP session at 1/250.  Turned out well and had many keepers, but this photograph is the only one worthy of upload.%0A%0AAbout ten minutes after this shot, they turned the lights on.  There was still a bit of ambient light, so now I wonder what 1/150 or 1/100 would do while the light is on?l%0A%0A<a href=http://www.unc.edu/~rowlett/lighthouse/sen.htm\"\" rel=\"\"nofollow\"\">www.unc.edu/~rowlett/lighthouse/sen.htm</a>%0A%0AIt has seen better days since it was built in 1864.  <a href=\"\"http://www.leuchtturm-welt.net/HTML/AFRICAPK/ORIGINAL/MAMELLES.JPG\"\" rel=\"\"nofollow\"\">Have no idea when this was taken.</a>%0A%0AImage was captured by a camera suspended by a kite line. Kite Aerial Photography (KAP) 7' Rok\"\n",
    "title = \"Phare Des Mamelles\"\n",
    "stringPOI = \"[Les Mamelles], [Phare des Mamelles]\"\n",
    "POI_list_test = stringPOI.split('], [')\n",
    "print(process.extract(title,POI_list_test))\n",
    "print(process.extract(str2Match,POI_list_test))\n",
    "filterPOI(str2Match,title,stringPOI)"
   ]
  },
  {
   "cell_type": "code",
   "execution_count": null,
   "metadata": {},
   "outputs": [],
   "source": []
  }
 ],
 "metadata": {
  "kernelspec": {
   "display_name": "Python 3",
   "language": "python",
   "name": "python3"
  },
  "language_info": {
   "codemirror_mode": {
    "name": "ipython",
    "version": 3
   },
   "file_extension": ".py",
   "mimetype": "text/x-python",
   "name": "python",
   "nbconvert_exporter": "python",
   "pygments_lexer": "ipython3",
   "version": "3.7.4"
  }
 },
 "nbformat": 4,
 "nbformat_minor": 4
}
