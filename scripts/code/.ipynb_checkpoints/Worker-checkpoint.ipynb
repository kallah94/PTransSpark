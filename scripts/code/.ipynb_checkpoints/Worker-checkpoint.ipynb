{
 "cells": [
  {
   "cell_type": "markdown",
   "metadata": {},
   "source": [
    "### Importation et initialisation de findspark"
   ]
  },
  {
   "cell_type": "code",
   "execution_count": 5,
   "metadata": {},
   "outputs": [],
   "source": [
    "import findspark\n",
    "import os\n",
    "java8_location= '/usr/lib/jvm/java-8-openjdk-amd64' # Set your own\n",
    "os.environ['JAVA_HOME'] = java8_location\n",
    "findspark.init()"
   ]
  },
  {
   "cell_type": "markdown",
   "metadata": {},
   "source": [
    "## Importation des modules requises"
   ]
  },
  {
   "cell_type": "code",
   "execution_count": 24,
   "metadata": {},
   "outputs": [],
   "source": [
    "# Pyspark modules\n",
    "from pyspark.sql import SparkSession\n",
    "from pyspark.sql.types import FloatType, StringType, StructType, StructField, IntegerType\n",
    "from pyspark.sql import Row\n",
    "from pyspark.sql.functions import lit\n",
    "import gensim\n",
    "import i18n\n",
    "from googletrans import Translator\n",
    "from gensim import models\n",
    "from gensim.models import Word2Vec, KeyedVectors\n",
    "from math import radians, cos, sin, asin, sqrt\n",
    "import json"
   ]
  },
  {
   "cell_type": "code",
   "execution_count": 7,
   "metadata": {},
   "outputs": [],
   "source": [
    "spark = SparkSession \\\n",
    "    .builder \\\n",
    "    .appName(\"TransBigData\") \\\n",
    "    .config(\"spark.some.config.option\", \"some-value\") \\\n",
    "    .getOrCreate()\n",
    "\n",
    "sc = spark.sparkContext"
   ]
  },
  {
   "cell_type": "markdown",
   "metadata": {},
   "source": [
    "#### Preparation des Points d'interets au SENEGAL"
   ]
  },
  {
   "cell_type": "code",
   "execution_count": 8,
   "metadata": {},
   "outputs": [],
   "source": [
    "# Schema\n",
    "schema2 = StructType([\\\n",
    "    StructField(\"geoname_id\", IntegerType(), True),\\\n",
    "    StructField(\"POI_name\", StringType(), True),\\\n",
    "    StructField(\"POI_asciiname\", StringType(), True),\\\n",
    "    StructField(\"POI_alternatenames\", StringType(), True),\\\n",
    "    StructField(\"POI_latitude\", FloatType(), True),\\\n",
    "    StructField(\"POI_longitude\", FloatType(), True),\\\n",
    "    StructField(\"feature_class\", StringType(), True),\\\n",
    "    StructField(\"feature_code\", StringType(), True),\\\n",
    "    StructField(\"country_code\", StringType(), True),\\\n",
    "    StructField(\"cc2\", StringType(), True),\\\n",
    "    StructField(\"admin1_code\", StringType(), True),\\\n",
    "    StructField(\"admin2_code\", StringType(), True),\\\n",
    "    StructField(\"admin3_code\", StringType(), True),\\\n",
    "    StructField(\"admin4_code\", StringType(), True),\\\n",
    "    StructField(\"population\", IntegerType(), True),\\\n",
    "    StructField(\"elevation\", IntegerType(), True),\\\n",
    "    StructField(\"dem\", IntegerType(), True),\\\n",
    "    StructField(\"timezone\", StringType(), True),\\\n",
    "    StructField(\"Modification_date\", StringType(), True),\\\n",
    "    StructField(\"AdminCodes\", StringType(), True)])\n",
    "\n",
    "# Importons le dataset contenant les POI du Senegal\n",
    "df_POI_SN = spark.read.csv(\"../SN.txt\", sep=\"\\t\", header=True, schema=schema2)\n",
    "\n",
    "#On drop les features inutiles pour nous\n",
    "df_POI_SN = df_POI_SN.drop(\n",
    "    \"feature_class\",\\\n",
    "    \"feature_code\",\\\n",
    "    \"country_code\",\\\n",
    "    \"cc2\",\\\n",
    "    \"admin1_code\",\\\n",
    "    \"admin2_code\",\\\n",
    "    \"admin3_code\",\\\n",
    "    \"admin4_code\",\\\n",
    "    \"population\",\\\n",
    "    \"elevation\",\\\n",
    "    \"dem\",\\\n",
    "    \"timezone\",\\\n",
    "    \"Modification_date\",\\\n",
    "    \"AdminCodes\")"
   ]
  },
  {
   "cell_type": "code",
   "execution_count": 9,
   "metadata": {},
   "outputs": [
    {
     "name": "stdout",
     "output_type": "stream",
     "text": [
      "+----------+--------------------+--------------------+--------------------+------------+-------------+\n",
      "|geoname_id|            POI_name|       POI_asciiname|  POI_alternatenames|POI_latitude|POI_longitude|\n",
      "+----------+--------------------+--------------------+--------------------+------------+-------------+\n",
      "|   2243938|   Vallée du Loumbol|   Vallee du Loumbol|Vallee du Loumbel...|        15.4|    -13.93333|\n",
      "|   2243939|          Ziguinchor|          Ziguinchor|Basse Casamance,D...|        12.8|    -16.36667|\n",
      "|   2243940|          Ziguinchor|          Ziguinchor|ZIG,Zighinkor,Zig...|    12.56801|    -16.27326|\n",
      "|   2243941|          Ziguinchor|          Ziguinchor|                null|    12.58333|    -16.26667|\n",
      "|   2243942|  Ziguinchor Airport|  Ziguinchor Airport|GOGG,ZIG,Ziguinch...|    12.55569|    -16.28268|\n",
      "|   2243943|          Ziguinchor|          Ziguinchor|Departement de Zi...|    12.52201|    -16.21621|\n",
      "|   2243944|                Yoye|                Yoye|                null|        15.2|        -16.3|\n",
      "|   2243945|              Youtou|              Youtou|                null|    12.37972|    -16.48861|\n",
      "|   2243946|          Youpé Paté|          Youpe Pate|Yoube-Pate,Youbé-...|    14.33446|    -12.39846|\n",
      "|   2243947|         Youpé Amadi|         Youpe Amadi|                null|    14.34823|    -12.40063|\n",
      "|   2243948|Yougouré Keur Mor...|Yougoure Keur Mor...|                null|       14.35|    -15.78333|\n",
      "|   2243949|  Yougouré Diolofène|  Yougoure Diolofene|                null|       14.35|    -15.76667|\n",
      "|   2243950|           Youboubou|           Youboubou|                null|    13.01896|    -11.64158|\n",
      "|   2243951|       Yoro Sankoulé|       Yoro Sankoule|                null|    13.86667|    -13.71667|\n",
      "|   2243952|          Yoro Sadio|          Yoro Sadio|                null|        15.0|    -15.46667|\n",
      "|   2243953|           Yoro Peul|           Yoro Peul|Yoro Peul,Yoro Peulh|       15.33|     -15.9704|\n",
      "|   2243954|              Yoroka|              Yoroka|                null|       14.95|    -15.73333|\n",
      "|   2243955|     Yorodondékounda|     Yorodondekounda|                null|        13.6|       -14.25|\n",
      "|   2243956|                Yoro|                Yoro|      Keur Yoro,Yoro|    14.13333|        -16.3|\n",
      "|   2243957|Réserve Sylvo-Pas...|Reserve Sylvo-Pas...|                null|     15.1309|     -14.4172|\n",
      "+----------+--------------------+--------------------+--------------------+------------+-------------+\n",
      "only showing top 20 rows\n",
      "\n"
     ]
    }
   ],
   "source": [
    "df_POI_SN.show()"
   ]
  },
  {
   "cell_type": "markdown",
   "metadata": {},
   "source": [
    "#### Preparation du dataset du SENEGAL"
   ]
  },
  {
   "cell_type": "code",
   "execution_count": 10,
   "metadata": {},
   "outputs": [],
   "source": [
    "df_SN = spark.read.csv(\"../fichiertest.tsv\", sep=\"\\t\", header=True)\n",
    "\n",
    "# On enlève les photos ne comportant pas de géotags et de description\n",
    "df_filtre = df_SN.filter(~df_SN[\"longitude\"].isin(\"\"))\n",
    "df_filtre = df_filtre.filter(~df_SN[\"latitude\"].isin(\"\"))\n",
    "df_filtre = df_filtre.filter(~df_SN[\"description\"].isin(\"\"))"
   ]
  },
  {
   "cell_type": "code",
   "execution_count": 22,
   "metadata": {},
   "outputs": [
    {
     "data": {
      "text/plain": [
       "'3170611706'"
      ]
     },
     "execution_count": 22,
     "metadata": {},
     "output_type": "execute_result"
    }
   ],
   "source": [
    "#df_SN.show()\n",
    "#df_filtre.show(1)\n",
    "item = df_filtre.collect()[0]\n",
    "str(item['identifier'])"
   ]
  },
  {
   "cell_type": "markdown",
   "metadata": {},
   "source": [
    "#### Definition fonction heversine"
   ]
  },
  {
   "cell_type": "code",
   "execution_count": 14,
   "metadata": {},
   "outputs": [],
   "source": [
    "# Fonction permettant de calculer la distance entre deux points geographiques en \n",
    "# Fonction de leurs coordonnees\n",
    "#def haversine(lon1, lat1, lon2, lat2):\n",
    "#    \"\"\"\n",
    "#    Calculate the great circle distance between two points \n",
    "#    on the earth (specified in decimal degrees)\n",
    "#    \"\"\"\n",
    "#    # convert decimal degrees to radians \n",
    "#    lon1, lat1, lon2, lat2 = map(radians, [lon1, lat1, lon2, lat2])\n",
    "#    # haversine formula \n",
    "#    dlon = lon2 - lon1 \n",
    "#    dlat = lat2 - lat1 \n",
    "#    a = sin(dlat/2)**2 + cos(lat1) * cos(lat2) * sin(dlon/2)**2\n",
    "#    c = 2 * asin(sqrt(a)) \n",
    "#    # Radius of earth in kilometers is 6371\n",
    "#    km = 6371* c\n",
    "#    return km"
   ]
  },
  {
   "cell_type": "code",
   "execution_count": null,
   "metadata": {},
   "outputs": [],
   "source": [
    "def queryPOI(longitude,latitude,POI_longitude,POI_latitude):\n",
    "    longitude = float(longitude)\n",
    "    latitude = float(latitude)\n",
    "    POI_longitude = float(POI_longitude)\n",
    "    POI_latitude = float(POI_latitude)\n",
    "    radius =50\n",
    "    \n",
    "    ## Calculons les coordonnées de la zone à couvrir par la bounding box \n",
    "    R = 6371000 # Rayon de la Terre en mètres\n",
    "    dY = 360 * radius / R # radius est le rayon de couverture de notre zone\n",
    "    dX = dY * math.cos (math.radians (latitude))\n",
    "    left = longitude - dX\n",
    "    bottom = latitude - dY \n",
    "    right = longitude + dX\n",
    "    top = latitude + dY\n",
    "    Liste_POI = list()\n",
    "    if((left <= POI_longitude <= right) and (bottom <= POI_latitude <= top)):\n",
    "        Liste_POI.append(POI_name)\n",
    "    \n",
    "    return Liste_POI"
   ]
  },
  {
   "cell_type": "markdown",
   "metadata": {},
   "source": [
    "#### Definition fonction Voisinage "
   ]
  },
  {
   "cell_type": "code",
   "execution_count": 15,
   "metadata": {},
   "outputs": [],
   "source": [
    "# Cette fonction prend en entree la df des POIs du senegal et une photo du dataset et retourne les POIs qui sont dans un rayon R de la phot\n",
    "def NeighboursItem(df,item):\n",
    "    alttd = None\n",
    "    item_lat = float(item['Latitude'])\n",
    "    item_lon = float(item['Longitude'])\n",
    "    lgd = None\n",
    "    neigh = []\n",
    "    for i in range(0, df.count()):\n",
    "        lat = float(df.select('POI_latitude').collect()[i][0])\n",
    "        lon = float(df.select('POI_longitude').collect()[i][0])\n",
    "        if(haversine(item_lon, item_lat, lon, lat) < 1.5) :\n",
    "            neigh.append(df.collect()[i])\n",
    "            print(df.collect()[i])\n",
    "        i+=1\n",
    "    return neigh"
   ]
  },
  {
   "cell_type": "code",
   "execution_count": null,
   "metadata": {},
   "outputs": [],
   "source": [
    "data = NeighboursItem(df_POI_SN, item)\n",
    "try:\n",
    "    with open('../data/data'+item['identifier']+'.json', 'a', encoding='utf-8') as f:\n",
    "        json.dump(data, f, ensure_ascii=False, indent=4)\n",
    "except:\n",
    "    print(\"file already existe !!!!\")"
   ]
  },
  {
   "cell_type": "code",
   "execution_count": null,
   "metadata": {
    "jupyter": {
     "source_hidden": true
    }
   },
   "outputs": [],
   "source": [
    "# Fonction permettant de calculer la distance entre deux points geographiques en \n",
    "# Fonction de leurs coordonnees\n",
    "from math import radians, cos, sin, asin, sqrt\n",
    "def haversine(lon1, lat1, lon2, lat2):\n",
    "    \"\"\"\n",
    "    Calculate the great circle distance between two points \n",
    "    on the earth (specified in decimal degrees)\n",
    "    \"\"\"\n",
    "    # convert decimal degrees to radians \n",
    "    lon1, lat1, lon2, lat2 = map(radians, [lon1, lat1, lon2, lat2])\n",
    "    # haversine formula \n",
    "    dlon = lon2 - lon1 \n",
    "    dlat = lat2 - lat1 \n",
    "    a = sin(dlat/2)**2 + cos(lat1) * cos(lat2) * sin(dlon/2)**2\n",
    "    c = 2 * asin(sqrt(a)) \n",
    "    # Radius of earth in kilometers is 6371\n",
    "    km = 6371* c\n",
    "    return km\n",
    "\n",
    "# Fonction pour traduire les user_tags en Francais pour les \n",
    "# Points preselectionnees\n",
    "from googletrans import Translator\n",
    "def translate(list_words, dest):\n",
    "    trans_words = []\n",
    "    for word in list_words:\n",
    "        if(i18n.t('En.{}'.format(word)).startswith('En')):\n",
    "            word_trans = (translator.translate(word, dest='{}'.format(dest))).text\n",
    "            try:\n",
    "                fichier = open('translations/En.en.yml', 'a')\n",
    "                fichier.writelines('\\n  {}: {}'.format(word, word_trans))\n",
    "                fichier.close()\n",
    "            except:\n",
    "                write(\"Some Error occur\")\n",
    "        else:\n",
    "            word_trans = i18n.t(\"En.{}\".format(word))\n",
    "        trans_words.append(word_trans)\n",
    "    return trans_words\n",
    "            "
   ]
  }
 ],
 "metadata": {
  "kernelspec": {
   "display_name": "Python 3",
   "language": "python",
   "name": "python3"
  },
  "language_info": {
   "codemirror_mode": {
    "name": "ipython",
    "version": 3
   },
   "file_extension": ".py",
   "mimetype": "text/x-python",
   "name": "python",
   "nbconvert_exporter": "python",
   "pygments_lexer": "ipython3",
   "version": "3.7.4"
  }
 },
 "nbformat": 4,
 "nbformat_minor": 4
}
